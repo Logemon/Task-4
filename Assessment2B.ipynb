{
 "cells": [
  {
   "cell_type": "markdown",
   "metadata": {},
   "source": [
    "###### Assessment"
   ]
  },
  {
   "cell_type": "markdown",
   "metadata": {},
   "source": [
    "###### I am going to provide two .csv files , you are supposed to work on them and have to provide solutions to the following problems"
   ]
  },
  {
   "cell_type": "markdown",
   "metadata": {},
   "source": [
    "###### import necessary libraries"
   ]
  },
  {
   "cell_type": "code",
   "execution_count": 11,
   "metadata": {},
   "outputs": [],
   "source": [
    "import pandas as pd\n",
    "import os\n",
    "import numpy as np\n",
    "import matplotlib.pyplot as plt\n",
    "import seaborn as sb\n"
   ]
  },
  {
   "cell_type": "markdown",
   "metadata": {},
   "source": [
    "###### merge those two csv files (after getting as dataframes, get them as a single dataframe)"
   ]
  },
  {
   "cell_type": "code",
   "execution_count": 4,
   "metadata": {},
   "outputs": [
    {
     "name": "stdout",
     "output_type": "stream",
     "text": [
      "              Name  python  mysql  Previous Geekions  CodeKata Score  \\\n",
      "0        A.Dharani    82.0   20.0              24500           24500   \n",
      "1      V.JEEVITHA     82.0   20.0              21740           21740   \n",
      "2      HEMAVATHI.R   100.0  100.0              19680           19680   \n",
      "3      Mugunthan S   100.0   47.0              10610           10610   \n",
      "4      Sathammai.S   100.0    8.0               8980            8980   \n",
      "..             ...     ...    ...                ...             ...   \n",
      "114  praveen raj j    24.0    0.0               2380            2380   \n",
      "115     AMARNATH D    -1.0   12.0               1890            1890   \n",
      "116           bala    32.0    0.0               1720            1720   \n",
      "117           XY Z    -1.0   -1.0                  0               0   \n",
      "118      Hariharan    -1.0   -1.0                  0               0   \n",
      "\n",
      "                                    Department  Rising  python_en  \\\n",
      "0             Computer Science and Engineering       0        NaN   \n",
      "1             Computer Science and Engineering       0        NaN   \n",
      "2             Computer Science and Engineering       0        NaN   \n",
      "3             Computer Science and Engineering       0        NaN   \n",
      "4             Computer Science and Engineering       0        NaN   \n",
      "..                                         ...     ...        ...   \n",
      "114           Computer Science and Engineering       0       -1.0   \n",
      "115  Electronics and Communication Engineering       0       52.0   \n",
      "116  Electronics and Communication Engineering       0       49.0   \n",
      "117           Computer Science and Engineering       0       20.0   \n",
      "118           Computer Science and Engineering       0       -1.0   \n",
      "\n",
      "     computational_thinking  \n",
      "0                       NaN  \n",
      "1                       NaN  \n",
      "2                       NaN  \n",
      "3                       NaN  \n",
      "4                       NaN  \n",
      "..                      ...  \n",
      "114                     0.0  \n",
      "115                    -1.0  \n",
      "116                    -1.0  \n",
      "117                    -1.0  \n",
      "118                     0.0  \n",
      "\n",
      "[119 rows x 9 columns]\n"
     ]
    }
   ],
   "source": [
    "df = pd.concat(\n",
    "    map(pd.read_csv, ['college_1.csv', 'college_2.csv']), ignore_index=True)\n",
    "print(df)"
   ]
  },
  {
   "cell_type": "markdown",
   "metadata": {},
   "source": [
    "###### Take each csv file , split that csv file into multiple categories (example csv files are added in the repo) \n"
   ]
  },
  {
   "cell_type": "markdown",
   "metadata": {},
   "source": [
    "consider if the codekata score exceeds 15000 points(present week) then make a csv on those observations as Exceeded expectations.csv\n"
   ]
  },
  {
   "cell_type": "code",
   "execution_count": 6,
   "metadata": {},
   "outputs": [],
   "source": [
    "df[df[\"CodeKata Score\"] > 15000].to_csv(\"exceeded_expectations.csv\")"
   ]
  },
  {
   "cell_type": "markdown",
   "metadata": {},
   "source": [
    "###### if  10000<codekata score<15000   (Reached_expectations.csv)\n",
    "\n"
   ]
  },
  {
   "cell_type": "code",
   "execution_count": 10,
   "metadata": {},
   "outputs": [],
   "source": [
    "df[(df[\"CodeKata Score\"] <15000)&(df[\"CodeKata Score\"]>10000)].to_csv(\"Reached_expectations.csv\")"
   ]
  },
  {
   "cell_type": "markdown",
   "metadata": {},
   "source": [
    "###### if  7000<codekata score<10000   (Needs_Improvement.csv)\n"
   ]
  },
  {
   "cell_type": "code",
   "execution_count": null,
   "metadata": {},
   "outputs": [],
   "source": [
    "df[(df[\"CodeKata Score\"] >7000)&(df[\"CodeKata Score\"]<10000)].to_csv(\"Needs_Improvement.csv\")"
   ]
  },
  {
   "cell_type": "markdown",
   "metadata": {},
   "source": [
    "###### if  codekate score < 7000        (Unsatisfactory.csv)"
   ]
  },
  {
   "cell_type": "code",
   "execution_count": null,
   "metadata": {},
   "outputs": [],
   "source": [
    "df[df[\"CodeKata Score\"] < 7000].to_csv(\"Unsatisfactory.csv\")"
   ]
  },
  {
   "cell_type": "markdown",
   "metadata": {},
   "source": [
    "###### Average of previous week geekions vs this week geekions (i.e Previous Geekions vs CodeKata Score)"
   ]
  },
  {
   "cell_type": "code",
   "execution_count": 18,
   "metadata": {},
   "outputs": [
    {
     "data": {
      "text/plain": [
       "(3842.3529411764707, 4051.764705882353)"
      ]
     },
     "execution_count": 18,
     "metadata": {},
     "output_type": "execute_result"
    }
   ],
   "source": [
    "(np.mean(np.array(df[\"Previous Geekions\"])),np.mean(np.array(df[\"CodeKata Score\"])))"
   ]
  },
  {
   "cell_type": "markdown",
   "metadata": {},
   "source": [
    "###### No of students participated "
   ]
  },
  {
   "cell_type": "code",
   "execution_count": 19,
   "metadata": {},
   "outputs": [
    {
     "data": {
      "text/plain": [
       "119"
      ]
     },
     "execution_count": 19,
     "metadata": {},
     "output_type": "execute_result"
    }
   ],
   "source": [
    "len(df)"
   ]
  },
  {
   "cell_type": "markdown",
   "metadata": {},
   "source": [
    "###### rising star of the week (top 3 candidate who performed well in that particular week)"
   ]
  },
  {
   "cell_type": "code",
   "execution_count": 20,
   "metadata": {},
   "outputs": [
    {
     "data": {
      "text/plain": [
       "0      A.Dharani\n",
       "1    V.JEEVITHA \n",
       "2    HEMAVATHI.R\n",
       "Name: Name, dtype: object"
      ]
     },
     "execution_count": 20,
     "metadata": {},
     "output_type": "execute_result"
    }
   ],
   "source": [
    "r=df.sort_values(by =[\"CodeKata Score\"],ascending = False)\n",
    "r[\"Name\"].head(3)"
   ]
  },
  {
   "cell_type": "markdown",
   "metadata": {},
   "source": [
    "###### Shining stars of the week (top 3 candidates who has highest geekions)"
   ]
  },
  {
   "cell_type": "code",
   "execution_count": 21,
   "metadata": {},
   "outputs": [
    {
     "data": {
      "text/plain": [
       "0      A.Dharani\n",
       "1    V.JEEVITHA \n",
       "2    HEMAVATHI.R\n",
       "Name: Name, dtype: object"
      ]
     },
     "execution_count": 21,
     "metadata": {},
     "output_type": "execute_result"
    }
   ],
   "source": [
    "s=df.sort_values(by =[\"Previous Geekions\"],ascending = False)\n",
    "s[\"Name\"].head(3)"
   ]
  },
  {
   "cell_type": "markdown",
   "metadata": {},
   "source": [
    "###### Department wise codekata performence (pie chart)"
   ]
  },
  {
   "cell_type": "code",
   "execution_count": 22,
   "metadata": {},
   "outputs": [
    {
     "data": {
      "image/png": "[encoded data removed]",
      "text/plain": [
       "<Figure size 432x288 with 1 Axes>"
      ]
     },
     "metadata": {},
     "output_type": "display_data"
    }
   ],
   "source": [
    "dep = df.groupby(\"Department\")[\"CodeKata Score\"].mean()\n",
    "plt.pie(dep,labels=df[\"Department\"].unique(),explode=0.01*np.ones(3),autopct='%.2f');"
   ]
  },
  {
   "cell_type": "markdown",
   "metadata": {},
   "source": [
    " Department wise toppers (horizantal bar graph or any visual representations of your choice)"
   ]
  },
  {
   "cell_type": "code",
   "execution_count": 39,
   "metadata": {},
   "outputs": [],
   "source": [
    "grouped = df.groupby(df.Department)\n",
    "csc=grouped.get_group(\"Computer Science and Engineering\")\n",
    "ece=grouped.get_group(\"Electronics and Communication Engineering\")\n",
    "eee=grouped.get_group(\"Electronics and Electrical Engineering\")\n",
    "csct=csc.head(5)\n",
    "ecet=ece.head(5)\n",
    "eeet=eee.head(5)"
   ]
  },
  {
   "cell_type": "code",
   "execution_count": 40,
   "metadata": {},
   "outputs": [
    {
     "data": {
      "image/png": "[encoded data removed]",
      "text/plain": [
       "<Figure size 432x288 with 1 Axes>"
      ]
     },
     "metadata": {
      "needs_background": "light"
     },
     "output_type": "display_data"
    }
   ],
   "source": [
    "plt.barh(\"Name\", \"CodeKata Score\", data = csct, color = \"red\") \n",
    "plt.xlabel(\"Scores\") \n",
    "plt.ylabel(\"Student Names\") \n",
    "plt.title(\"Toppers of CSE Department\")\n",
    "plt.show()"
   ]
  },
  {
   "cell_type": "code",
   "execution_count": 42,
   "metadata": {},
   "outputs": [
    {
     "data": {
      "image/png": "[encoded data removed]",
      "text/plain": [
       "<Figure size 432x288 with 1 Axes>"
      ]
     },
     "metadata": {
      "needs_background": "light"
     },
     "output_type": "display_data"
    }
   ],
   "source": [
    "plt.barh(\"Name\", \"CodeKata Score\", data = eeet, color = \"green\") \n",
    "plt.xlabel(\"Scores\") \n",
    "plt.ylabel(\"Student Names\") \n",
    "plt.title(\"Toppers of EEE Department\")\n",
    "plt.show()"
   ]
  },
  {
   "cell_type": "code",
   "execution_count": 43,
   "metadata": {},
   "outputs": [
    {
     "data": {
      "image/png": "[encoded data removed]",
      "text/plain": [
       "<Figure size 432x288 with 1 Axes>"
      ]
     },
     "metadata": {
      "needs_background": "light"
     },
     "output_type": "display_data"
    }
   ],
   "source": [
    "plt.barh(\"Name\", \"CodeKata Score\", data = ecet, color = \"blue\") \n",
    "plt.xlabel(\"Scores\") \n",
    "plt.ylabel(\"Student Names\") \n",
    "plt.title(\"Toppers of ECE Department\")\n",
    "plt.show()"
   ]
  }
 ],
 "metadata": {
  "interpreter": {
   "hash": "a9a2bcd298c2db1bffee2ddc03bb92e5da9207b6e944c8a1d8a9ecb60f8317c3"
  },
  "kernelspec": {
   "display_name": "Python 3.9.7 ('base')",
   "language": "python",
   "name": "python3"
  },
  "language_info": {
   "codemirror_mode": {
    "name": "ipython",
    "version": 3
   },
   "file_extension": ".py",
   "mimetype": "text/x-python",
   "name": "python",
   "nbconvert_exporter": "python",
   "pygments_lexer": "ipython3",
   "version": "3.9.7"
  }
 },
 "nbformat": 4,
 "nbformat_minor": 2
}
